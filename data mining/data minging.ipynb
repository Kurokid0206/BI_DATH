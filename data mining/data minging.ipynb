{
 "cells": [
  {
   "cell_type": "code",
   "execution_count": 2,
   "id": "47e92304",
   "metadata": {},
   "outputs": [],
   "source": [
    "import pandas as pd\n",
    "import numpy as np\n",
    "from statsmodels.tsa.ar_model import AutoReg, ar_select_order\n",
    "import matplotlib.pyplot as plt\n",
    "from statsmodels.tsa.arima.model import ARIMA\n",
    "from statsmodels.graphics.tsaplots import plot_acf\n",
    "from statsmodels.graphics.tsaplots import plot_pacf\n",
    "from sklearn.metrics import mean_squared_error as mse\n",
    "from math import sqrt\n"
   ]
  },
  {
   "cell_type": "markdown",
   "id": "d1ac7840",
   "metadata": {},
   "source": [
    "#### Read data"
   ]
  },
  {
   "cell_type": "code",
   "execution_count": 15,
   "id": "d573cde8",
   "metadata": {},
   "outputs": [
    {
     "data": {
      "text/html": [
       "<div>\n",
       "<style scoped>\n",
       "    .dataframe tbody tr th:only-of-type {\n",
       "        vertical-align: middle;\n",
       "    }\n",
       "\n",
       "    .dataframe tbody tr th {\n",
       "        vertical-align: top;\n",
       "    }\n",
       "\n",
       "    .dataframe thead th {\n",
       "        text-align: right;\n",
       "    }\n",
       "</style>\n",
       "<table border=\"1\" class=\"dataframe\">\n",
       "  <thead>\n",
       "    <tr style=\"text-align: right;\">\n",
       "      <th></th>\n",
       "      <th>Year</th>\n",
       "      <th>Month</th>\n",
       "      <th>Day</th>\n",
       "      <th>Active Count</th>\n",
       "      <th>Deceased Count</th>\n",
       "      <th>Recovered Count</th>\n",
       "    </tr>\n",
       "  </thead>\n",
       "  <tbody>\n",
       "    <tr>\n",
       "      <th>0</th>\n",
       "      <td>2020</td>\n",
       "      <td>1</td>\n",
       "      <td>1</td>\n",
       "      <td>0</td>\n",
       "      <td>0</td>\n",
       "      <td>3</td>\n",
       "    </tr>\n",
       "    <tr>\n",
       "      <th>1</th>\n",
       "      <td>2020</td>\n",
       "      <td>1</td>\n",
       "      <td>10</td>\n",
       "      <td>0</td>\n",
       "      <td>0</td>\n",
       "      <td>1</td>\n",
       "    </tr>\n",
       "    <tr>\n",
       "      <th>2</th>\n",
       "      <td>2020</td>\n",
       "      <td>1</td>\n",
       "      <td>13</td>\n",
       "      <td>0</td>\n",
       "      <td>0</td>\n",
       "      <td>1</td>\n",
       "    </tr>\n",
       "    <tr>\n",
       "      <th>3</th>\n",
       "      <td>2020</td>\n",
       "      <td>1</td>\n",
       "      <td>16</td>\n",
       "      <td>0</td>\n",
       "      <td>0</td>\n",
       "      <td>1</td>\n",
       "    </tr>\n",
       "    <tr>\n",
       "      <th>4</th>\n",
       "      <td>2020</td>\n",
       "      <td>1</td>\n",
       "      <td>21</td>\n",
       "      <td>0</td>\n",
       "      <td>0</td>\n",
       "      <td>1</td>\n",
       "    </tr>\n",
       "    <tr>\n",
       "      <th>...</th>\n",
       "      <td>...</td>\n",
       "      <td>...</td>\n",
       "      <td>...</td>\n",
       "      <td>...</td>\n",
       "      <td>...</td>\n",
       "      <td>...</td>\n",
       "    </tr>\n",
       "    <tr>\n",
       "      <th>484</th>\n",
       "      <td>2021</td>\n",
       "      <td>5</td>\n",
       "      <td>29</td>\n",
       "      <td>895</td>\n",
       "      <td>0</td>\n",
       "      <td>0</td>\n",
       "    </tr>\n",
       "    <tr>\n",
       "      <th>485</th>\n",
       "      <td>2021</td>\n",
       "      <td>5</td>\n",
       "      <td>30</td>\n",
       "      <td>651</td>\n",
       "      <td>0</td>\n",
       "      <td>10</td>\n",
       "    </tr>\n",
       "    <tr>\n",
       "      <th>486</th>\n",
       "      <td>2021</td>\n",
       "      <td>5</td>\n",
       "      <td>31</td>\n",
       "      <td>842</td>\n",
       "      <td>0</td>\n",
       "      <td>1</td>\n",
       "    </tr>\n",
       "    <tr>\n",
       "      <th>487</th>\n",
       "      <td>2021</td>\n",
       "      <td>6</td>\n",
       "      <td>1</td>\n",
       "      <td>679</td>\n",
       "      <td>0</td>\n",
       "      <td>0</td>\n",
       "    </tr>\n",
       "    <tr>\n",
       "      <th>488</th>\n",
       "      <td>2021</td>\n",
       "      <td>6</td>\n",
       "      <td>2</td>\n",
       "      <td>11</td>\n",
       "      <td>0</td>\n",
       "      <td>0</td>\n",
       "    </tr>\n",
       "  </tbody>\n",
       "</table>\n",
       "<p>489 rows × 6 columns</p>\n",
       "</div>"
      ],
      "text/plain": [
       "     Year Month Day Active Count Deceased Count Recovered Count\n",
       "0    2020     1   1            0              0               3\n",
       "1    2020     1  10            0              0               1\n",
       "2    2020     1  13            0              0               1\n",
       "3    2020     1  16            0              0               1\n",
       "4    2020     1  21            0              0               1\n",
       "..    ...   ...  ..          ...            ...             ...\n",
       "484  2021     5  29          895              0               0\n",
       "485  2021     5  30          651              0              10\n",
       "486  2021     5  31          842              0               1\n",
       "487  2021     6   1          679              0               0\n",
       "488  2021     6   2           11              0               0\n",
       "\n",
       "[489 rows x 6 columns]"
      ]
     },
     "execution_count": 15,
     "metadata": {},
     "output_type": "execute_result"
    }
   ],
   "source": [
    "data = pd.read_csv('CovidCases.csv')\n",
    "data = data.drop(data[data.Year == \"Unknown\"].index)\n",
    "data\n"
   ]
  },
  {
   "cell_type": "code",
   "execution_count": 19,
   "id": "5f1be637",
   "metadata": {},
   "outputs": [
    {
     "data": {
      "text/html": [
       "<div>\n",
       "<style scoped>\n",
       "    .dataframe tbody tr th:only-of-type {\n",
       "        vertical-align: middle;\n",
       "    }\n",
       "\n",
       "    .dataframe tbody tr th {\n",
       "        vertical-align: top;\n",
       "    }\n",
       "\n",
       "    .dataframe thead th {\n",
       "        text-align: right;\n",
       "    }\n",
       "</style>\n",
       "<table border=\"1\" class=\"dataframe\">\n",
       "  <thead>\n",
       "    <tr style=\"text-align: right;\">\n",
       "      <th></th>\n",
       "      <th>Year</th>\n",
       "      <th>Month</th>\n",
       "      <th>Day</th>\n",
       "      <th>Active Count</th>\n",
       "      <th>Deceased Count</th>\n",
       "      <th>Recovered Count</th>\n",
       "      <th>Date</th>\n",
       "    </tr>\n",
       "  </thead>\n",
       "  <tbody>\n",
       "    <tr>\n",
       "      <th>0</th>\n",
       "      <td>2020</td>\n",
       "      <td>1</td>\n",
       "      <td>1</td>\n",
       "      <td>0</td>\n",
       "      <td>0</td>\n",
       "      <td>3</td>\n",
       "      <td>2020-1-1</td>\n",
       "    </tr>\n",
       "    <tr>\n",
       "      <th>1</th>\n",
       "      <td>2020</td>\n",
       "      <td>1</td>\n",
       "      <td>10</td>\n",
       "      <td>0</td>\n",
       "      <td>0</td>\n",
       "      <td>1</td>\n",
       "      <td>2020-1-10</td>\n",
       "    </tr>\n",
       "    <tr>\n",
       "      <th>2</th>\n",
       "      <td>2020</td>\n",
       "      <td>1</td>\n",
       "      <td>13</td>\n",
       "      <td>0</td>\n",
       "      <td>0</td>\n",
       "      <td>1</td>\n",
       "      <td>2020-1-13</td>\n",
       "    </tr>\n",
       "    <tr>\n",
       "      <th>3</th>\n",
       "      <td>2020</td>\n",
       "      <td>1</td>\n",
       "      <td>16</td>\n",
       "      <td>0</td>\n",
       "      <td>0</td>\n",
       "      <td>1</td>\n",
       "      <td>2020-1-16</td>\n",
       "    </tr>\n",
       "    <tr>\n",
       "      <th>4</th>\n",
       "      <td>2020</td>\n",
       "      <td>1</td>\n",
       "      <td>21</td>\n",
       "      <td>0</td>\n",
       "      <td>0</td>\n",
       "      <td>1</td>\n",
       "      <td>2020-1-21</td>\n",
       "    </tr>\n",
       "    <tr>\n",
       "      <th>...</th>\n",
       "      <td>...</td>\n",
       "      <td>...</td>\n",
       "      <td>...</td>\n",
       "      <td>...</td>\n",
       "      <td>...</td>\n",
       "      <td>...</td>\n",
       "      <td>...</td>\n",
       "    </tr>\n",
       "    <tr>\n",
       "      <th>484</th>\n",
       "      <td>2021</td>\n",
       "      <td>5</td>\n",
       "      <td>29</td>\n",
       "      <td>895</td>\n",
       "      <td>0</td>\n",
       "      <td>0</td>\n",
       "      <td>2021-5-29</td>\n",
       "    </tr>\n",
       "    <tr>\n",
       "      <th>485</th>\n",
       "      <td>2021</td>\n",
       "      <td>5</td>\n",
       "      <td>30</td>\n",
       "      <td>651</td>\n",
       "      <td>0</td>\n",
       "      <td>10</td>\n",
       "      <td>2021-5-30</td>\n",
       "    </tr>\n",
       "    <tr>\n",
       "      <th>486</th>\n",
       "      <td>2021</td>\n",
       "      <td>5</td>\n",
       "      <td>31</td>\n",
       "      <td>842</td>\n",
       "      <td>0</td>\n",
       "      <td>1</td>\n",
       "      <td>2021-5-31</td>\n",
       "    </tr>\n",
       "    <tr>\n",
       "      <th>487</th>\n",
       "      <td>2021</td>\n",
       "      <td>6</td>\n",
       "      <td>1</td>\n",
       "      <td>679</td>\n",
       "      <td>0</td>\n",
       "      <td>0</td>\n",
       "      <td>2021-6-1</td>\n",
       "    </tr>\n",
       "    <tr>\n",
       "      <th>488</th>\n",
       "      <td>2021</td>\n",
       "      <td>6</td>\n",
       "      <td>2</td>\n",
       "      <td>11</td>\n",
       "      <td>0</td>\n",
       "      <td>0</td>\n",
       "      <td>2021-6-2</td>\n",
       "    </tr>\n",
       "  </tbody>\n",
       "</table>\n",
       "<p>489 rows × 7 columns</p>\n",
       "</div>"
      ],
      "text/plain": [
       "     Year Month Day Active Count Deceased Count Recovered Count       Date\n",
       "0    2020     1   1            0              0               3   2020-1-1\n",
       "1    2020     1  10            0              0               1  2020-1-10\n",
       "2    2020     1  13            0              0               1  2020-1-13\n",
       "3    2020     1  16            0              0               1  2020-1-16\n",
       "4    2020     1  21            0              0               1  2020-1-21\n",
       "..    ...   ...  ..          ...            ...             ...        ...\n",
       "484  2021     5  29          895              0               0  2021-5-29\n",
       "485  2021     5  30          651              0              10  2021-5-30\n",
       "486  2021     5  31          842              0               1  2021-5-31\n",
       "487  2021     6   1          679              0               0   2021-6-1\n",
       "488  2021     6   2           11              0               0   2021-6-2\n",
       "\n",
       "[489 rows x 7 columns]"
      ]
     },
     "execution_count": 19,
     "metadata": {},
     "output_type": "execute_result"
    }
   ],
   "source": [
    "data['Date'] = data.Year + \"-\" + data.Month + \"-\" + data.Day\n",
    "data\n"
   ]
  },
  {
   "cell_type": "code",
   "execution_count": 32,
   "id": "c264704e",
   "metadata": {},
   "outputs": [
    {
     "data": {
      "text/html": [
       "<div>\n",
       "<style scoped>\n",
       "    .dataframe tbody tr th:only-of-type {\n",
       "        vertical-align: middle;\n",
       "    }\n",
       "\n",
       "    .dataframe tbody tr th {\n",
       "        vertical-align: top;\n",
       "    }\n",
       "\n",
       "    .dataframe thead th {\n",
       "        text-align: right;\n",
       "    }\n",
       "</style>\n",
       "<table border=\"1\" class=\"dataframe\">\n",
       "  <thead>\n",
       "    <tr style=\"text-align: right;\">\n",
       "      <th></th>\n",
       "      <th>Year</th>\n",
       "      <th>Month</th>\n",
       "      <th>Day</th>\n",
       "      <th>Active Count</th>\n",
       "      <th>Deceased Count</th>\n",
       "      <th>Recovered Count</th>\n",
       "      <th>Date</th>\n",
       "    </tr>\n",
       "  </thead>\n",
       "  <tbody>\n",
       "    <tr>\n",
       "      <th>0</th>\n",
       "      <td>2020</td>\n",
       "      <td>1</td>\n",
       "      <td>1</td>\n",
       "      <td>0</td>\n",
       "      <td>0</td>\n",
       "      <td>3</td>\n",
       "      <td>2020-01-01</td>\n",
       "    </tr>\n",
       "    <tr>\n",
       "      <th>1</th>\n",
       "      <td>2020</td>\n",
       "      <td>1</td>\n",
       "      <td>10</td>\n",
       "      <td>0</td>\n",
       "      <td>0</td>\n",
       "      <td>1</td>\n",
       "      <td>2020-01-10</td>\n",
       "    </tr>\n",
       "    <tr>\n",
       "      <th>2</th>\n",
       "      <td>2020</td>\n",
       "      <td>1</td>\n",
       "      <td>13</td>\n",
       "      <td>0</td>\n",
       "      <td>0</td>\n",
       "      <td>1</td>\n",
       "      <td>2020-01-13</td>\n",
       "    </tr>\n",
       "    <tr>\n",
       "      <th>3</th>\n",
       "      <td>2020</td>\n",
       "      <td>1</td>\n",
       "      <td>16</td>\n",
       "      <td>0</td>\n",
       "      <td>0</td>\n",
       "      <td>1</td>\n",
       "      <td>2020-01-16</td>\n",
       "    </tr>\n",
       "    <tr>\n",
       "      <th>4</th>\n",
       "      <td>2020</td>\n",
       "      <td>1</td>\n",
       "      <td>21</td>\n",
       "      <td>0</td>\n",
       "      <td>0</td>\n",
       "      <td>1</td>\n",
       "      <td>2020-01-21</td>\n",
       "    </tr>\n",
       "    <tr>\n",
       "      <th>...</th>\n",
       "      <td>...</td>\n",
       "      <td>...</td>\n",
       "      <td>...</td>\n",
       "      <td>...</td>\n",
       "      <td>...</td>\n",
       "      <td>...</td>\n",
       "      <td>...</td>\n",
       "    </tr>\n",
       "    <tr>\n",
       "      <th>484</th>\n",
       "      <td>2021</td>\n",
       "      <td>5</td>\n",
       "      <td>29</td>\n",
       "      <td>895</td>\n",
       "      <td>0</td>\n",
       "      <td>0</td>\n",
       "      <td>2021-05-29</td>\n",
       "    </tr>\n",
       "    <tr>\n",
       "      <th>485</th>\n",
       "      <td>2021</td>\n",
       "      <td>5</td>\n",
       "      <td>30</td>\n",
       "      <td>651</td>\n",
       "      <td>0</td>\n",
       "      <td>10</td>\n",
       "      <td>2021-05-30</td>\n",
       "    </tr>\n",
       "    <tr>\n",
       "      <th>486</th>\n",
       "      <td>2021</td>\n",
       "      <td>5</td>\n",
       "      <td>31</td>\n",
       "      <td>842</td>\n",
       "      <td>0</td>\n",
       "      <td>1</td>\n",
       "      <td>2021-05-31</td>\n",
       "    </tr>\n",
       "    <tr>\n",
       "      <th>487</th>\n",
       "      <td>2021</td>\n",
       "      <td>6</td>\n",
       "      <td>1</td>\n",
       "      <td>679</td>\n",
       "      <td>0</td>\n",
       "      <td>0</td>\n",
       "      <td>2021-06-01</td>\n",
       "    </tr>\n",
       "    <tr>\n",
       "      <th>488</th>\n",
       "      <td>2021</td>\n",
       "      <td>6</td>\n",
       "      <td>2</td>\n",
       "      <td>11</td>\n",
       "      <td>0</td>\n",
       "      <td>0</td>\n",
       "      <td>2021-06-02</td>\n",
       "    </tr>\n",
       "  </tbody>\n",
       "</table>\n",
       "<p>489 rows × 7 columns</p>\n",
       "</div>"
      ],
      "text/plain": [
       "     Year Month Day  Active Count  Deceased Count  Recovered Count       Date\n",
       "0    2020     1   1             0               0                3 2020-01-01\n",
       "1    2020     1  10             0               0                1 2020-01-10\n",
       "2    2020     1  13             0               0                1 2020-01-13\n",
       "3    2020     1  16             0               0                1 2020-01-16\n",
       "4    2020     1  21             0               0                1 2020-01-21\n",
       "..    ...   ...  ..           ...             ...              ...        ...\n",
       "484  2021     5  29           895               0                0 2021-05-29\n",
       "485  2021     5  30           651               0               10 2021-05-30\n",
       "486  2021     5  31           842               0                1 2021-05-31\n",
       "487  2021     6   1           679               0                0 2021-06-01\n",
       "488  2021     6   2            11               0                0 2021-06-02\n",
       "\n",
       "[489 rows x 7 columns]"
      ]
     },
     "execution_count": 32,
     "metadata": {},
     "output_type": "execute_result"
    }
   ],
   "source": [
    "data.Date = pd.to_datetime(data.Date)\n",
    "data['Active Count'] = pd.to_numeric(data['Active Count'])\n",
    "data['Deceased Count'] = pd.to_numeric(data['Deceased Count'])\n",
    "data['Recovered Count'] = pd.to_numeric(data['Recovered Count'])\n",
    "data\n"
   ]
  },
  {
   "cell_type": "code",
   "execution_count": 33,
   "id": "8772efb9",
   "metadata": {},
   "outputs": [
    {
     "name": "stdout",
     "output_type": "stream",
     "text": [
      "<class 'pandas.core.frame.DataFrame'>\n",
      "Int64Index: 489 entries, 0 to 488\n",
      "Data columns (total 7 columns):\n",
      " #   Column           Non-Null Count  Dtype         \n",
      "---  ------           --------------  -----         \n",
      " 0   Year             489 non-null    object        \n",
      " 1   Month            489 non-null    object        \n",
      " 2   Day              489 non-null    object        \n",
      " 3   Active Count     489 non-null    int64         \n",
      " 4   Deceased Count   489 non-null    int64         \n",
      " 5   Recovered Count  489 non-null    int64         \n",
      " 6   Date             489 non-null    datetime64[ns]\n",
      "dtypes: datetime64[ns](1), int64(3), object(3)\n",
      "memory usage: 30.6+ KB\n"
     ]
    }
   ],
   "source": [
    "data.info()\n"
   ]
  },
  {
   "cell_type": "code",
   "execution_count": 34,
   "id": "c5ec82b1",
   "metadata": {},
   "outputs": [
    {
     "data": {
      "text/plain": [
       "Year               0\n",
       "Month              0\n",
       "Day                0\n",
       "Active Count       0\n",
       "Deceased Count     0\n",
       "Recovered Count    0\n",
       "Date               0\n",
       "dtype: int64"
      ]
     },
     "execution_count": 34,
     "metadata": {},
     "output_type": "execute_result"
    }
   ],
   "source": [
    "data.isnull().sum()\n"
   ]
  },
  {
   "cell_type": "markdown",
   "id": "5df34eba",
   "metadata": {},
   "source": [
    "#### => Không có null value"
   ]
  },
  {
   "cell_type": "code",
   "execution_count": 35,
   "id": "4a7ad5cf",
   "metadata": {},
   "outputs": [
    {
     "data": {
      "text/html": [
       "<div>\n",
       "<style scoped>\n",
       "    .dataframe tbody tr th:only-of-type {\n",
       "        vertical-align: middle;\n",
       "    }\n",
       "\n",
       "    .dataframe tbody tr th {\n",
       "        vertical-align: top;\n",
       "    }\n",
       "\n",
       "    .dataframe thead th {\n",
       "        text-align: right;\n",
       "    }\n",
       "</style>\n",
       "<table border=\"1\" class=\"dataframe\">\n",
       "  <thead>\n",
       "    <tr style=\"text-align: right;\">\n",
       "      <th></th>\n",
       "      <th>Date</th>\n",
       "      <th>Active Count</th>\n",
       "      <th>Deceased Count</th>\n",
       "      <th>Recovered Count</th>\n",
       "    </tr>\n",
       "  </thead>\n",
       "  <tbody>\n",
       "    <tr>\n",
       "      <th>0</th>\n",
       "      <td>2020-01-01</td>\n",
       "      <td>0</td>\n",
       "      <td>0</td>\n",
       "      <td>3</td>\n",
       "    </tr>\n",
       "    <tr>\n",
       "      <th>1</th>\n",
       "      <td>2020-01-10</td>\n",
       "      <td>0</td>\n",
       "      <td>0</td>\n",
       "      <td>1</td>\n",
       "    </tr>\n",
       "    <tr>\n",
       "      <th>2</th>\n",
       "      <td>2020-01-13</td>\n",
       "      <td>0</td>\n",
       "      <td>0</td>\n",
       "      <td>1</td>\n",
       "    </tr>\n",
       "    <tr>\n",
       "      <th>3</th>\n",
       "      <td>2020-01-16</td>\n",
       "      <td>0</td>\n",
       "      <td>0</td>\n",
       "      <td>1</td>\n",
       "    </tr>\n",
       "    <tr>\n",
       "      <th>4</th>\n",
       "      <td>2020-01-21</td>\n",
       "      <td>0</td>\n",
       "      <td>0</td>\n",
       "      <td>1</td>\n",
       "    </tr>\n",
       "    <tr>\n",
       "      <th>...</th>\n",
       "      <td>...</td>\n",
       "      <td>...</td>\n",
       "      <td>...</td>\n",
       "      <td>...</td>\n",
       "    </tr>\n",
       "    <tr>\n",
       "      <th>484</th>\n",
       "      <td>2021-05-29</td>\n",
       "      <td>895</td>\n",
       "      <td>0</td>\n",
       "      <td>0</td>\n",
       "    </tr>\n",
       "    <tr>\n",
       "      <th>485</th>\n",
       "      <td>2021-05-30</td>\n",
       "      <td>651</td>\n",
       "      <td>0</td>\n",
       "      <td>10</td>\n",
       "    </tr>\n",
       "    <tr>\n",
       "      <th>486</th>\n",
       "      <td>2021-05-31</td>\n",
       "      <td>842</td>\n",
       "      <td>0</td>\n",
       "      <td>1</td>\n",
       "    </tr>\n",
       "    <tr>\n",
       "      <th>487</th>\n",
       "      <td>2021-06-01</td>\n",
       "      <td>679</td>\n",
       "      <td>0</td>\n",
       "      <td>0</td>\n",
       "    </tr>\n",
       "    <tr>\n",
       "      <th>488</th>\n",
       "      <td>2021-06-02</td>\n",
       "      <td>11</td>\n",
       "      <td>0</td>\n",
       "      <td>0</td>\n",
       "    </tr>\n",
       "  </tbody>\n",
       "</table>\n",
       "<p>489 rows × 4 columns</p>\n",
       "</div>"
      ],
      "text/plain": [
       "          Date  Active Count  Deceased Count  Recovered Count\n",
       "0   2020-01-01             0               0                3\n",
       "1   2020-01-10             0               0                1\n",
       "2   2020-01-13             0               0                1\n",
       "3   2020-01-16             0               0                1\n",
       "4   2020-01-21             0               0                1\n",
       "..         ...           ...             ...              ...\n",
       "484 2021-05-29           895               0                0\n",
       "485 2021-05-30           651               0               10\n",
       "486 2021-05-31           842               0                1\n",
       "487 2021-06-01           679               0                0\n",
       "488 2021-06-02            11               0                0\n",
       "\n",
       "[489 rows x 4 columns]"
      ]
     },
     "execution_count": 35,
     "metadata": {},
     "output_type": "execute_result"
    }
   ],
   "source": [
    "df = data[['Date','Active Count','Deceased Count','Recovered Count']]\n",
    "df\n"
   ]
  },
  {
   "cell_type": "markdown",
   "id": "172cc0a0",
   "metadata": {},
   "source": [
    "#### Group số ca theo tháng, năm"
   ]
  },
  {
   "cell_type": "code",
   "execution_count": 36,
   "id": "9e6a9e75",
   "metadata": {},
   "outputs": [
    {
     "data": {
      "text/html": [
       "<div>\n",
       "<style scoped>\n",
       "    .dataframe tbody tr th:only-of-type {\n",
       "        vertical-align: middle;\n",
       "    }\n",
       "\n",
       "    .dataframe tbody tr th {\n",
       "        vertical-align: top;\n",
       "    }\n",
       "\n",
       "    .dataframe thead th {\n",
       "        text-align: right;\n",
       "    }\n",
       "</style>\n",
       "<table border=\"1\" class=\"dataframe\">\n",
       "  <thead>\n",
       "    <tr style=\"text-align: right;\">\n",
       "      <th></th>\n",
       "      <th>Date</th>\n",
       "      <th>Active Count</th>\n",
       "      <th>Deceased Count</th>\n",
       "      <th>Recovered Count</th>\n",
       "    </tr>\n",
       "  </thead>\n",
       "  <tbody>\n",
       "    <tr>\n",
       "      <th>0</th>\n",
       "      <td>2020-01-31</td>\n",
       "      <td>0</td>\n",
       "      <td>0</td>\n",
       "      <td>21</td>\n",
       "    </tr>\n",
       "    <tr>\n",
       "      <th>1</th>\n",
       "      <td>2020-02-29</td>\n",
       "      <td>0</td>\n",
       "      <td>0</td>\n",
       "      <td>82</td>\n",
       "    </tr>\n",
       "    <tr>\n",
       "      <th>2</th>\n",
       "      <td>2020-03-31</td>\n",
       "      <td>0</td>\n",
       "      <td>444</td>\n",
       "      <td>8867</td>\n",
       "    </tr>\n",
       "    <tr>\n",
       "      <th>3</th>\n",
       "      <td>2020-04-30</td>\n",
       "      <td>0</td>\n",
       "      <td>1953</td>\n",
       "      <td>21232</td>\n",
       "    </tr>\n",
       "    <tr>\n",
       "      <th>4</th>\n",
       "      <td>2020-05-31</td>\n",
       "      <td>0</td>\n",
       "      <td>585</td>\n",
       "      <td>18144</td>\n",
       "    </tr>\n",
       "    <tr>\n",
       "      <th>5</th>\n",
       "      <td>2020-06-30</td>\n",
       "      <td>0</td>\n",
       "      <td>101</td>\n",
       "      <td>11479</td>\n",
       "    </tr>\n",
       "    <tr>\n",
       "      <th>6</th>\n",
       "      <td>2020-07-31</td>\n",
       "      <td>2</td>\n",
       "      <td>38</td>\n",
       "      <td>9013</td>\n",
       "    </tr>\n",
       "    <tr>\n",
       "      <th>7</th>\n",
       "      <td>2020-08-31</td>\n",
       "      <td>0</td>\n",
       "      <td>22</td>\n",
       "      <td>7812</td>\n",
       "    </tr>\n",
       "    <tr>\n",
       "      <th>8</th>\n",
       "      <td>2020-09-30</td>\n",
       "      <td>0</td>\n",
       "      <td>114</td>\n",
       "      <td>29386</td>\n",
       "    </tr>\n",
       "    <tr>\n",
       "      <th>9</th>\n",
       "      <td>2020-10-31</td>\n",
       "      <td>1</td>\n",
       "      <td>241</td>\n",
       "      <td>45894</td>\n",
       "    </tr>\n",
       "    <tr>\n",
       "      <th>10</th>\n",
       "      <td>2020-11-30</td>\n",
       "      <td>1</td>\n",
       "      <td>493</td>\n",
       "      <td>86841</td>\n",
       "    </tr>\n",
       "    <tr>\n",
       "      <th>11</th>\n",
       "      <td>2020-12-31</td>\n",
       "      <td>5</td>\n",
       "      <td>953</td>\n",
       "      <td>136063</td>\n",
       "    </tr>\n",
       "    <tr>\n",
       "      <th>12</th>\n",
       "      <td>2021-01-31</td>\n",
       "      <td>6</td>\n",
       "      <td>932</td>\n",
       "      <td>129946</td>\n",
       "    </tr>\n",
       "    <tr>\n",
       "      <th>13</th>\n",
       "      <td>2021-02-28</td>\n",
       "      <td>9</td>\n",
       "      <td>297</td>\n",
       "      <td>59157</td>\n",
       "    </tr>\n",
       "    <tr>\n",
       "      <th>14</th>\n",
       "      <td>2021-03-31</td>\n",
       "      <td>24</td>\n",
       "      <td>483</td>\n",
       "      <td>115049</td>\n",
       "    </tr>\n",
       "    <tr>\n",
       "      <th>15</th>\n",
       "      <td>2021-04-30</td>\n",
       "      <td>136</td>\n",
       "      <td>742</td>\n",
       "      <td>224096</td>\n",
       "    </tr>\n",
       "    <tr>\n",
       "      <th>16</th>\n",
       "      <td>2021-05-31</td>\n",
       "      <td>19483</td>\n",
       "      <td>174</td>\n",
       "      <td>86513</td>\n",
       "    </tr>\n",
       "    <tr>\n",
       "      <th>17</th>\n",
       "      <td>2021-06-30</td>\n",
       "      <td>690</td>\n",
       "      <td>0</td>\n",
       "      <td>0</td>\n",
       "    </tr>\n",
       "  </tbody>\n",
       "</table>\n",
       "</div>"
      ],
      "text/plain": [
       "         Date  Active Count  Deceased Count  Recovered Count\n",
       "0  2020-01-31             0               0               21\n",
       "1  2020-02-29             0               0               82\n",
       "2  2020-03-31             0             444             8867\n",
       "3  2020-04-30             0            1953            21232\n",
       "4  2020-05-31             0             585            18144\n",
       "5  2020-06-30             0             101            11479\n",
       "6  2020-07-31             2              38             9013\n",
       "7  2020-08-31             0              22             7812\n",
       "8  2020-09-30             0             114            29386\n",
       "9  2020-10-31             1             241            45894\n",
       "10 2020-11-30             1             493            86841\n",
       "11 2020-12-31             5             953           136063\n",
       "12 2021-01-31             6             932           129946\n",
       "13 2021-02-28             9             297            59157\n",
       "14 2021-03-31            24             483           115049\n",
       "15 2021-04-30           136             742           224096\n",
       "16 2021-05-31         19483             174            86513\n",
       "17 2021-06-30           690               0                0"
      ]
     },
     "execution_count": 36,
     "metadata": {},
     "output_type": "execute_result"
    }
   ],
   "source": [
    "df = df.groupby(pd.Grouper(key='Date', axis=0, freq='M')).sum()\n",
    "df.reset_index(inplace=True)\n",
    "df\n"
   ]
  },
  {
   "cell_type": "code",
   "execution_count": 92,
   "id": "45864816",
   "metadata": {},
   "outputs": [],
   "source": [
    "df_active = df['Active Count']\n",
    "df_deceased = df['Deceased Count']\n",
    "df_recovered = df['Recovered Count']\n"
   ]
  },
  {
   "cell_type": "code",
   "execution_count": 206,
   "id": "ee1f88de",
   "metadata": {},
   "outputs": [
    {
     "data": {
      "text/plain": [
       "[<matplotlib.lines.Line2D at 0x25af5769a30>]"
      ]
     },
     "execution_count": 206,
     "metadata": {},
     "output_type": "execute_result"
    },
    {
     "data": {
      "image/png": "[encoded data removed]",
      "text/plain": [
       "<Figure size 432x288 with 1 Axes>"
      ]
     },
     "metadata": {
      "needs_background": "light"
     },
     "output_type": "display_data"
    }
   ],
   "source": [
    "plt.plot(df_recovered)\n"
   ]
  },
  {
   "cell_type": "code",
   "execution_count": 207,
   "id": "26866682",
   "metadata": {},
   "outputs": [
    {
     "data": {
      "image/png": "[encoded data removed]",
      "text/plain": [
       "<Figure size 432x288 with 1 Axes>"
      ]
     },
     "metadata": {
      "needs_background": "light"
     },
     "output_type": "display_data"
    }
   ],
   "source": [
    "plot_acf(df_recovered)\n",
    "plt.show()"
   ]
  },
  {
   "cell_type": "code",
   "execution_count": 208,
   "id": "6db63255",
   "metadata": {},
   "outputs": [
    {
     "data": {
      "image/png": "[encoded data removed]",
      "text/plain": [
       "<Figure size 432x288 with 2 Axes>"
      ]
     },
     "execution_count": 208,
     "metadata": {},
     "output_type": "execute_result"
    },
    {
     "data": {
      "image/png": "[encoded data removed]",
      "text/plain": [
       "<Figure size 432x288 with 2 Axes>"
      ]
     },
     "metadata": {
      "needs_background": "light"
     },
     "output_type": "display_data"
    }
   ],
   "source": [
    "fig, (ax1,ax2) = plt.subplots(1,2)\n",
    "ax1.plot(df_recovered.diff())\n",
    "plot_acf(df_recovered.diff().dropna(), ax=ax2)"
   ]
  },
  {
   "cell_type": "code",
   "execution_count": 209,
   "id": "79be6bfc",
   "metadata": {},
   "outputs": [
    {
     "data": {
      "image/png": "[encoded data removed]",
      "text/plain": [
       "<Figure size 432x288 with 2 Axes>"
      ]
     },
     "execution_count": 209,
     "metadata": {},
     "output_type": "execute_result"
    },
    {
     "data": {
      "image/png": "[encoded data removed]",
      "text/plain": [
       "<Figure size 432x288 with 2 Axes>"
      ]
     },
     "metadata": {
      "needs_background": "light"
     },
     "output_type": "display_data"
    }
   ],
   "source": [
    "fig, (ax1,ax2) = plt.subplots(1,2)\n",
    "ax1.plot(df_recovered.diff().diff())\n",
    "plot_acf(df_recovered.diff().diff().dropna(), ax=ax2)"
   ]
  },
  {
   "cell_type": "code",
   "execution_count": 211,
   "id": "044f90ee",
   "metadata": {},
   "outputs": [
    {
     "name": "stdout",
     "output_type": "stream",
     "text": [
      "p-value =  1.0\n",
      "p-value =  0.19919553843834964\n",
      "p-value =  0.0005283373608598522\n"
     ]
    }
   ],
   "source": [
    "from statsmodels.tsa.stattools import adfuller\n",
    "results = adfuller(df_recovered.dropna())\n",
    "print('p-value = ',results[1])\n",
    "results = adfuller(df_recovered.diff().dropna())\n",
    "print('p-value = ',results[1])\n",
    "results = adfuller(df_recovered.diff().diff().dropna())\n",
    "print('p-value = ',results[1])"
   ]
  },
  {
   "cell_type": "code",
   "execution_count": 212,
   "id": "218f5d70",
   "metadata": {},
   "outputs": [],
   "source": [
    "p = 1\n",
    "d = 1\n",
    "q = 2"
   ]
  },
  {
   "cell_type": "markdown",
   "id": "6abb2fdf",
   "metadata": {},
   "source": [
    "#### Chọn p = 1, d = 1, q =2"
   ]
  },
  {
   "cell_type": "markdown",
   "id": "1f95b52c",
   "metadata": {},
   "source": [
    "#### Chia thành 2 tập train và test theo tỉ lệ 3/4"
   ]
  },
  {
   "cell_type": "code",
   "execution_count": 215,
   "id": "78dceb9e",
   "metadata": {},
   "outputs": [],
   "source": [
    "size = int(len(df_recovered) * 0.75)\n",
    "train, test = df_recovered.iloc[:size], df_recovered.iloc[size:]\n"
   ]
  },
  {
   "cell_type": "code",
   "execution_count": 216,
   "id": "06a5782a",
   "metadata": {},
   "outputs": [
    {
     "data": {
      "text/plain": [
       "<AxesSubplot:>"
      ]
     },
     "execution_count": 216,
     "metadata": {},
     "output_type": "execute_result"
    },
    {
     "data": {
      "image/png": "[encoded data removed]",
      "text/plain": [
       "<Figure size 432x288 with 1 Axes>"
      ]
     },
     "metadata": {
      "needs_background": "light"
     },
     "output_type": "display_data"
    }
   ],
   "source": [
    "train.plot()\n",
    "test.plot()\n"
   ]
  },
  {
   "cell_type": "code",
   "execution_count": 223,
   "id": "cc057538",
   "metadata": {},
   "outputs": [],
   "source": [
    "model = ARIMA(train, order = (1,1,2))\n",
    "model_fit = model.fit()\n",
    "pred = model_fit.predict(size, len(df_recovered) - 1)\n"
   ]
  },
  {
   "cell_type": "markdown",
   "id": "a74aef89",
   "metadata": {},
   "source": [
    "#### So sánh tập test và predict"
   ]
  },
  {
   "cell_type": "code",
   "execution_count": 224,
   "id": "f2005152",
   "metadata": {},
   "outputs": [
    {
     "data": {
      "image/png": "[encoded data removed]",
      "text/plain": [
       "<Figure size 432x288 with 1 Axes>"
      ]
     },
     "metadata": {
      "needs_background": "light"
     },
     "output_type": "display_data"
    }
   ],
   "source": [
    "plt.plot(test, label = 'test')\n",
    "plt.plot(pred, label = 'prediction')\n",
    "plt.legend()\n",
    "plt.show()\n"
   ]
  },
  {
   "cell_type": "markdown",
   "id": "9780a802",
   "metadata": {},
   "source": [
    "#### RMSE để đánh giá kết quả predict"
   ]
  },
  {
   "cell_type": "code",
   "execution_count": 225,
   "id": "9845a7f7",
   "metadata": {},
   "outputs": [
    {
     "name": "stdout",
     "output_type": "stream",
     "text": [
      "RMSE:  75743.97038620383\n"
     ]
    }
   ],
   "source": [
    "print('RMSE: ', sqrt(mse(test, pred)))\n"
   ]
  },
  {
   "cell_type": "code",
   "execution_count": 226,
   "id": "980d76df",
   "metadata": {},
   "outputs": [],
   "source": [
    "forecast = model_fit.forecast(50)\n"
   ]
  },
  {
   "cell_type": "markdown",
   "id": "fccbbbce",
   "metadata": {},
   "source": [
    "#### Visualize kết quả forecast"
   ]
  },
  {
   "cell_type": "code",
   "execution_count": 227,
   "id": "92c2285d",
   "metadata": {},
   "outputs": [
    {
     "data": {
      "text/plain": [
       "<matplotlib.legend.Legend at 0x25af89a3c70>"
      ]
     },
     "execution_count": 227,
     "metadata": {},
     "output_type": "execute_result"
    },
    {
     "data": {
      "image/png": "[encoded data removed]",
      "text/plain": [
       "<Figure size 432x288 with 1 Axes>"
      ]
     },
     "metadata": {
      "needs_background": "light"
     },
     "output_type": "display_data"
    }
   ],
   "source": [
    "fig, ax = plt.subplots()\n",
    "ax.plot(train)\n",
    "ax.plot(forecast, color = 'yellow')\n",
    "ax.plot(pred, color = 'red')\n",
    "ax.legend(['train','forecast','predict'])\n"
   ]
  },
  {
   "cell_type": "code",
   "execution_count": null,
   "id": "45afaf07",
   "metadata": {},
   "outputs": [],
   "source": []
  }
 ],
 "metadata": {
  "kernelspec": {
   "display_name": "Python 3",
   "language": "python",
   "name": "python3"
  },
  "language_info": {
   "codemirror_mode": {
    "name": "ipython",
    "version": 3
   },
   "file_extension": ".py",
   "mimetype": "text/x-python",
   "name": "python",
   "nbconvert_exporter": "python",
   "pygments_lexer": "ipython3",
   "version": "3.8.8"
  }
 },
 "nbformat": 4,
 "nbformat_minor": 5
}
